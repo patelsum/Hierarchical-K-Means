{
 "cells": [
  {
   "cell_type": "markdown",
   "metadata": {},
   "source": [
    "# Guided Projects Artificial Intelligence & Machine Learning\n",
    "## Guided Projects: Unsupervised Learning\n",
    "### Hierarchical K-Means: Construction of Hashing Tree\n",
    "Hierarchical clustering is the hierarchical decomposition of the data based on group \n",
    "similarities. It allows us to build tree structures from data similarities and see how different sub-clusters relate to each other, and how far apart data points are. It gives us a tree-type structure \n",
    "based on the hierarchical series of nested clusters. A diagram called Dendrogram graphically \n",
    "represents this hierarchy and is an inverted tree that describes the order in which factors are \n",
    "merged, or clusters are broken apart.\n",
    "### Question:\n",
    "Perform Hierarchical Clustering from scratch and also using sklearn to perform wholesale \n",
    "customer segmentation based on their annual spending on products. You can use this dataset. \n",
    "Use the threshold to\n",
    "\n",
    "1. Divide the dataset into two clusters. \n",
    "\n",
    "2. To divide the dataset into k clusters, such that the distance between the two clusters is greater\n",
    "than a given threshold (this threshold can be anything passed to the function).\n",
    "\n",
    "Dataset Link: Wholesale customers data\n",
    "https://archive.ics.uci.edu/ml/machine-learning-databases/00292/Wholesale%20customers%20data.csv"
   ]
  },
  {
   "cell_type": "code",
   "execution_count": 13,
   "metadata": {},
   "outputs": [],
   "source": [
    "# Import required libraries\n",
    "import numpy as np\n",
    "import pandas as pd\n",
    "import matplotlib.pyplot as plt\n",
    "from sklearn.cluster import AgglomerativeClustering\n",
    "from scipy.cluster.hierarchy import dendrogram"
   ]
  },
  {
   "cell_type": "code",
   "execution_count": 14,
   "metadata": {},
   "outputs": [
    {
     "data": {
      "text/html": [
       "<div>\n",
       "<style scoped>\n",
       "    .dataframe tbody tr th:only-of-type {\n",
       "        vertical-align: middle;\n",
       "    }\n",
       "\n",
       "    .dataframe tbody tr th {\n",
       "        vertical-align: top;\n",
       "    }\n",
       "\n",
       "    .dataframe thead th {\n",
       "        text-align: right;\n",
       "    }\n",
       "</style>\n",
       "<table border=\"1\" class=\"dataframe\">\n",
       "  <thead>\n",
       "    <tr style=\"text-align: right;\">\n",
       "      <th></th>\n",
       "      <th>Channel</th>\n",
       "      <th>Region</th>\n",
       "      <th>Fresh</th>\n",
       "      <th>Milk</th>\n",
       "      <th>Grocery</th>\n",
       "      <th>Frozen</th>\n",
       "      <th>Detergents_Paper</th>\n",
       "      <th>Delicassen</th>\n",
       "    </tr>\n",
       "  </thead>\n",
       "  <tbody>\n",
       "    <tr>\n",
       "      <th>0</th>\n",
       "      <td>2</td>\n",
       "      <td>3</td>\n",
       "      <td>12669</td>\n",
       "      <td>9656</td>\n",
       "      <td>7561</td>\n",
       "      <td>214</td>\n",
       "      <td>2674</td>\n",
       "      <td>1338</td>\n",
       "    </tr>\n",
       "    <tr>\n",
       "      <th>1</th>\n",
       "      <td>2</td>\n",
       "      <td>3</td>\n",
       "      <td>7057</td>\n",
       "      <td>9810</td>\n",
       "      <td>9568</td>\n",
       "      <td>1762</td>\n",
       "      <td>3293</td>\n",
       "      <td>1776</td>\n",
       "    </tr>\n",
       "    <tr>\n",
       "      <th>2</th>\n",
       "      <td>2</td>\n",
       "      <td>3</td>\n",
       "      <td>6353</td>\n",
       "      <td>8808</td>\n",
       "      <td>7684</td>\n",
       "      <td>2405</td>\n",
       "      <td>3516</td>\n",
       "      <td>7844</td>\n",
       "    </tr>\n",
       "    <tr>\n",
       "      <th>3</th>\n",
       "      <td>1</td>\n",
       "      <td>3</td>\n",
       "      <td>13265</td>\n",
       "      <td>1196</td>\n",
       "      <td>4221</td>\n",
       "      <td>6404</td>\n",
       "      <td>507</td>\n",
       "      <td>1788</td>\n",
       "    </tr>\n",
       "    <tr>\n",
       "      <th>4</th>\n",
       "      <td>2</td>\n",
       "      <td>3</td>\n",
       "      <td>22615</td>\n",
       "      <td>5410</td>\n",
       "      <td>7198</td>\n",
       "      <td>3915</td>\n",
       "      <td>1777</td>\n",
       "      <td>5185</td>\n",
       "    </tr>\n",
       "  </tbody>\n",
       "</table>\n",
       "</div>"
      ],
      "text/plain": [
       "   Channel  Region  Fresh  Milk  Grocery  Frozen  Detergents_Paper  Delicassen\n",
       "0        2       3  12669  9656     7561     214              2674        1338\n",
       "1        2       3   7057  9810     9568    1762              3293        1776\n",
       "2        2       3   6353  8808     7684    2405              3516        7844\n",
       "3        1       3  13265  1196     4221    6404               507        1788\n",
       "4        2       3  22615  5410     7198    3915              1777        5185"
      ]
     },
     "execution_count": 14,
     "metadata": {},
     "output_type": "execute_result"
    }
   ],
   "source": [
    "data = pd.read_csv('Wholesale customers data.csv')\n",
    "data.head()"
   ]
  },
  {
   "cell_type": "code",
   "execution_count": 15,
   "metadata": {},
   "outputs": [
    {
     "data": {
      "text/plain": [
       "(440, 8)"
      ]
     },
     "execution_count": 15,
     "metadata": {},
     "output_type": "execute_result"
    }
   ],
   "source": [
    "x = np.array(data)\n",
    "x.shape"
   ]
  },
  {
   "cell_type": "code",
   "execution_count": 23,
   "metadata": {},
   "outputs": [
    {
     "data": {
      "text/plain": [
       "array([0, 0, 0, 0, 1, 0, 0, 0, 0, 0, 0, 0, 1, 1, 1, 0, 0, 0, 1, 0, 1, 0,\n",
       "       1, 0, 1, 1, 0, 1, 0, 1, 1, 0, 1, 1, 0, 0, 1, 0, 0, 1, 1, 1, 0, 0,\n",
       "       0, 0, 0, 0, 0, 0, 0, 0, 1, 0, 1, 0, 0, 0, 1, 0, 0, 0, 0, 0, 0, 0,\n",
       "       0, 1, 0, 0, 1, 1, 0, 1, 0, 1, 0, 0, 0, 0, 0, 0, 0, 1, 0, 0, 0, 1,\n",
       "       0, 1, 0, 0, 0, 0, 0, 0, 0, 0, 0, 0, 0, 0, 0, 1, 1, 1, 0, 0, 0, 0,\n",
       "       0, 0, 1, 1, 1, 0, 0, 0, 1, 0, 1, 0, 1, 0, 1, 1, 1, 1, 0, 1, 0, 0,\n",
       "       1, 0, 0, 0, 0, 0, 0, 0, 1, 1, 1, 0, 1, 0, 0, 0, 0, 1, 1, 0, 1, 0,\n",
       "       0, 0, 0, 1, 0, 0, 0, 1, 1, 0, 0, 0, 0, 0, 0, 0, 0, 0, 0, 0, 0, 0,\n",
       "       1, 0, 0, 0, 1, 1, 0, 1, 0, 0, 0, 0, 0, 0, 1, 1, 0, 0, 0, 1, 1, 0,\n",
       "       0, 0, 0, 0, 1, 0, 0, 0, 0, 0, 0, 0, 1, 0, 0, 0, 0, 0, 0, 1, 0, 0,\n",
       "       1, 0, 0, 0, 0, 0, 1, 0, 0, 0, 0, 0, 1, 0, 1, 0, 0, 1, 0, 1, 1, 1,\n",
       "       1, 0, 0, 0, 0, 1, 1, 0, 0, 0, 0, 1, 0, 1, 0, 0, 1, 1, 0, 0, 1, 0,\n",
       "       0, 0, 0, 1, 0, 1, 0, 0, 0, 1, 0, 0, 1, 0, 0, 1, 0, 0, 1, 1, 1, 1,\n",
       "       0, 1, 1, 1, 0, 0, 0, 0, 1, 0, 1, 0, 0, 0, 1, 0, 0, 0, 0, 0, 0, 1,\n",
       "       0, 0, 0, 1, 0, 0, 0, 0, 0, 0, 0, 0, 0, 0, 1, 1, 1, 1, 0, 0, 1, 0,\n",
       "       0, 0, 1, 0, 1, 1, 1, 0, 0, 0, 0, 0, 0, 0, 0, 0, 0, 1, 0, 0, 0, 0,\n",
       "       0, 0, 0, 0, 1, 0, 0, 0, 1, 0, 0, 0, 0, 0, 0, 0, 1, 0, 1, 1, 0, 1,\n",
       "       0, 0, 0, 1, 0, 0, 1, 1, 1, 0, 0, 0, 0, 1, 0, 0, 0, 0, 0, 1, 0, 0,\n",
       "       0, 0, 0, 0, 0, 1, 1, 1, 1, 0, 1, 0, 0, 0, 0, 0, 0, 0, 0, 0, 0, 0,\n",
       "       0, 0, 0, 1, 1, 1, 1, 0, 0, 1, 0, 0, 0, 0, 1, 0, 1, 1, 1, 0, 0, 0],\n",
       "      dtype=int64)"
      ]
     },
     "execution_count": 23,
     "metadata": {},
     "output_type": "execute_result"
    }
   ],
   "source": [
    "model_1 = AgglomerativeClustering() # By default number of clusters = 2\n",
    "model_1 = model_1.fit(x)\n",
    "model_1.labels_"
   ]
  },
  {
   "cell_type": "code",
   "execution_count": 35,
   "metadata": {},
   "outputs": [
    {
     "data": {
      "text/plain": [
       "array([248, 293, 375, 240, 401, 427, 311, 379, 380, 252, 228, 378, 435,\n",
       "       257, 347, 269, 360, 357, 264, 234, 368, 412, 439, 367, 249, 341,\n",
       "       390, 350, 327, 325, 222, 372, 343, 261, 424, 279, 289, 221, 265,\n",
       "       312, 333, 270, 315, 406, 300, 247, 397, 344, 391, 423, 316, 230,\n",
       "       282, 299, 331, 260, 259, 241, 430, 281, 304, 335, 369, 171, 309,\n",
       "       313, 362, 287, 238, 395, 292, 255, 305, 243, 314, 288, 409, 429,\n",
       "       399, 363, 436, 183, 421, 431, 294, 271, 143, 329, 223, 245, 373,\n",
       "       393, 277, 239, 275, 370, 402, 219, 434, 321, 353, 348, 374, 244,\n",
       "       381, 146, 330, 278, 291, 383, 419, 415, 267, 276, 437, 138, 418,\n",
       "       290, 236, 237, 354, 407, 394, 227, 326, 145, 416, 298, 420, 233,\n",
       "       366, 358, 405, 388, 217, 411, 246, 253, 266, 306, 242, 155, 385,\n",
       "       345, 113, 408, 119, 392, 318, 284, 382, 202, 209, 132, 203, 224,\n",
       "       302, 414, 410, 340, 123, 332, 319, 250, 262, 258, 377, 226, 214,\n",
       "       225, 220, 387, 336, 307, 339, 128, 134, 130, 324, 231, 346, 263,\n",
       "       149, 111, 268, 396, 337,  72, 120, 232, 251, 356, 425, 121, 428,\n",
       "       188, 317, 297, 301, 426, 254, 125, 213, 422, 285, 403, 432, 286,\n",
       "       157, 376, 361, 156, 352, 184, 365, 116, 137, 195, 229, 389, 400,\n",
       "       158, 272, 334, 204,  77, 283, 187, 141, 384, 338, 211, 417, 200,\n",
       "       165, 172,  78, 256,  38, 310, 371, 168, 212, 162, 351, 131, 386,\n",
       "       112,  59, 142, 207, 235, 182, 349, 320, 208, 438, 186, 154, 197,\n",
       "       174, 127,  93, 190, 144, 205, 273, 117,  68, 328, 185, 166,  91,\n",
       "       189, 176, 150, 194, 101, 364, 191, 210, 215, 280, 118, 359, 122,\n",
       "       196, 355,  70, 274, 404,  65, 413, 178, 218, 322, 308, 398, 160,\n",
       "       108, 159, 303, 296, 323, 163, 167, 140, 126, 124, 151, 115, 192,\n",
       "       181, 433, 152, 169, 193, 295,  94, 139, 161, 206, 180, 179,  74,\n",
       "        61, 106, 216, 114,  89,  83, 104,  58,  80,  79,  75, 164, 109,\n",
       "       342,  82,  85, 103, 148,  57, 105,  56, 107, 102, 175,  63, 201,\n",
       "        62,  81, 153,  30,  51, 129, 170,  97,  87,  84, 198, 133,  28,\n",
       "        95,  71, 177, 136,  64,  98,  92,  60, 147,  45,  29,  48,  96,\n",
       "        39, 173, 100,  40,  55,  46, 135, 199,  22,  90,  41,  53,  52,\n",
       "        69,  67, 110,  33,  14,  66,  86,  88,  76,  32,  44,  19,  43,\n",
       "        25,  37,  50,  99,  27,  42,  34,  13,  31,  20,  73,   6,  16,\n",
       "        47,  15,  49,  21,  54,  26,   9,  35,  23,  24,  36,  18,  17,\n",
       "         8,  10,   7,   4,  11,  12,   3,   5,   1,   2,   0], dtype=int64)"
      ]
     },
     "execution_count": 35,
     "metadata": {},
     "output_type": "execute_result"
    }
   ],
   "source": [
    "model_2 = AgglomerativeClustering(distance_threshold=0, n_clusters=None)\n",
    "model_2.fit(x)\n",
    "model_2.labels_"
   ]
  },
  {
   "cell_type": "code",
   "execution_count": 36,
   "metadata": {},
   "outputs": [],
   "source": [
    "# Function to plot the dendrogram\n",
    "def plot_dendrogram(model, **kwargs):\n",
    "    # Create linkage matrix and then plot the dendrogram\n",
    "\n",
    "    # create the counts of samples under each node\n",
    "    counts = np.zeros(model.children_.shape[0])\n",
    "    n_samples = len(model.labels_)\n",
    "    for i, merge in enumerate(model.children_):\n",
    "        current_count = 0\n",
    "        for child_idx in merge:\n",
    "            if child_idx < n_samples:\n",
    "                current_count += 1  # leaf node\n",
    "            else:\n",
    "                current_count += counts[child_idx - n_samples]\n",
    "        counts[i] = current_count\n",
    "\n",
    "    linkage_matrix = np.column_stack([model.children_, model.distances_,counts]).astype(float)\n",
    "\n",
    "    # Plot the corresponding dendrogram\n",
    "    dendrogram(linkage_matrix, **kwargs)"
   ]
  },
  {
   "cell_type": "code",
   "execution_count": 42,
   "metadata": {},
   "outputs": [
    {
     "data": {
      "image/png": "[encoded data removed]",
      "text/plain": [
       "<Figure size 432x288 with 1 Axes>"
      ]
     },
     "metadata": {
      "needs_background": "light"
     },
     "output_type": "display_data"
    }
   ],
   "source": [
    "plt.title('Hierarchical Clustering Dendrogram')\n",
    "# plot the top three levels of the dendrogram\n",
    "plot_dendrogram(model_2, truncate_mode='level', p=3)\n",
    "plt.xlabel(\"Number of points in node (or index of point if no parenthesis).\")\n",
    "plt.show()"
   ]
  }
 ],
 "metadata": {
  "kernelspec": {
   "display_name": "Python 3",
   "language": "python",
   "name": "python3"
  },
  "language_info": {
   "codemirror_mode": {
    "name": "ipython",
    "version": 3
   },
   "file_extension": ".py",
   "mimetype": "text/x-python",
   "name": "python",
   "nbconvert_exporter": "python",
   "pygments_lexer": "ipython3",
   "version": "3.8.3"
  }
 },
 "nbformat": 4,
 "nbformat_minor": 4
}
